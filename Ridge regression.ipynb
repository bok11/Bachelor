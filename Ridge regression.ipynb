{
 "cells": [
  {
   "cell_type": "code",
   "execution_count": 1,
   "metadata": {
    "collapsed": true
   },
   "outputs": [],
   "source": [
    "from torch.utils.data import Dataset"
   ]
  },
  {
   "cell_type": "code",
   "execution_count": 2,
   "metadata": {
    "collapsed": true
   },
   "outputs": [],
   "source": [
    "from sklearn.linear_model import Ridge, RidgeCV\n",
    "import pandas as pd\n",
    "import numpy as np\n",
    "from sklearn.model_selection import train_test_split, KFold, cross_val_score\n",
    "from sklearn.preprocessing import MinMaxScaler\n",
    "from sklearn.metrics import mean_squared_error, make_scorer\n",
    "import random\n",
    "import matplotlib.pyplot as plt\n",
    "from matplotlib.lines import Line2D\n",
    "from tqdm import tqdm"
   ]
  },
  {
   "cell_type": "code",
   "execution_count": 3,
   "metadata": {
    "collapsed": true
   },
   "outputs": [],
   "source": [
    "import warnings\n",
    "warnings.filterwarnings(action='once')"
   ]
  },
  {
   "cell_type": "code",
   "execution_count": 4,
   "metadata": {
    "collapsed": true
   },
   "outputs": [],
   "source": [
    "# pre processing function\n",
    "def zscale(x, mean, std):\n",
    "    result = np.subtract(x, mean)\n",
    "    \n",
    "    result = np.divide(result, std, out=np.zeros_like(result), where=std!=0)\n",
    "    \n",
    "    return result\n",
    "\n",
    "def norma(x, min, max): \n",
    "    result = np.subtract(x, min)\n",
    "    \n",
    "    result = np.divide(result, np.subtract(max, min), out=np.zeros_like(result), where=np.subtract(max, min)!=0)\n",
    "    return result\n",
    "\n",
    "\n",
    "# model \n",
    "# http://web.as.uky.edu/statistics/users/pbreheny/764-f11/notes/9-1.pdf\n",
    "# slide 3\n",
    "def ridge_regression(X, y, lam):\n",
    "    xtranspose = np.transpose(X)\n",
    "    xtransx = np.dot(xtranspose, X)\n",
    "    lamidentity = np.identity(xtransx.shape[0]) * lam\n",
    "    matinv = np.linalg.inv(lamidentity + xtransx)\n",
    "    xtransy = np.dot(xtranspose, y)\n",
    "    # return betas\n",
    "    return np.dot(matinv, xtransy)"
   ]
  },
  {
   "cell_type": "code",
   "execution_count": 5,
   "metadata": {
    "collapsed": true
   },
   "outputs": [],
   "source": [
    "class MCVDDataset(Dataset):\n",
    "\n",
    "    def __init__(self, csv_file):\n",
    "        \"\"\"\n",
    "        Args:\n",
    "            csv_file (string): Path to the csv file with annotations.\n",
    "        \"\"\"\n",
    "        self.mcvd_data = pd.read_csv(csv_file)\n",
    "\n",
    "    def __len__(self):\n",
    "        return self.mcvd_data.shape[0]\n",
    "\n",
    "    def __getitem__(self, idx):\n",
    "        \n",
    "        data = self.mcvd_data.iloc[idx][6:].values.astype('float32')\n",
    "        target = (self.mcvd_data.iloc[idx][2])\n",
    "        sample = {'data': data, 'target': target}\n",
    "\n",
    "        return sample"
   ]
  },
  {
   "cell_type": "code",
   "execution_count": 6,
   "metadata": {
    "collapsed": true
   },
   "outputs": [],
   "source": [
    "def get_valid_train_split(df,split=0.25,randomseed=None, silent=False,minimum =2):\n",
    "    prodids = df['prodid'].unique()\n",
    "    train_idx = []\n",
    "    test_idx = []\n",
    "\n",
    "    for prodid in prodids:\n",
    "        if (df[df['prodid'] == prodid].shape[0] <minimum):\n",
    "            if (not silent):\n",
    "                print(\"Skipped prodid {} with {} entries\".format(prodid,df[df['prodid'] == prodid].shape[0]))\n",
    "        else:\n",
    "            #References\n",
    "            index = df[(df['prodid'] == prodid) & (df['targetval']-df['val'] == 0)].index\n",
    "            train,test = train_test_split(index,test_size=split ,random_state=randomseed)\n",
    "            [train_idx.append(value) for value in train]\n",
    "            [test_idx.append(value) for value in test]\n",
    "\n",
    "            #Targets\n",
    "            index = df[(df['prodid'] == prodid) & (df['targetval']-df['val'] != 0)].index\n",
    "            train,test = train_test_split(index,test_size=split ,random_state=randomseed)\n",
    "            [train_idx.append(value) for value in train]\n",
    "            [test_idx.append(value) for value in test]\n",
    "            \n",
    "    return train_idx, test_idx"
   ]
  },
  {
   "cell_type": "markdown",
   "metadata": {},
   "source": [
    "# Tests"
   ]
  },
  {
   "cell_type": "markdown",
   "metadata": {},
   "source": [
    "## Raw input data"
   ]
  },
  {
   "cell_type": "code",
   "execution_count": 7,
   "metadata": {
    "collapsed": true
   },
   "outputs": [],
   "source": [
    "dataset = MCVDDataset(csv_file='dataset-goldenref.csv')\n",
    "dataset.mcvd_data = dataset.mcvd_data.drop('Unnamed: 0',axis=1)\n",
    "dataset.mcvd_data['starttime'] = pd.to_datetime(dataset.mcvd_data['starttime'])"
   ]
  },
  {
   "cell_type": "code",
   "execution_count": 8,
   "metadata": {
    "collapsed": true
   },
   "outputs": [],
   "source": [
    "randomseed=23\n",
    "k_fold=5\n",
    "split = 0.20\n",
    "train_idx, test_idx = get_valid_train_split(dataset.mcvd_data,split=split,randomseed=randomseed,silent=True)"
   ]
  },
  {
   "cell_type": "code",
   "execution_count": 26,
   "metadata": {
    "collapsed": true
   },
   "outputs": [],
   "source": [
    "X_train = np.empty([0,341])\n",
    "Y_train = np.empty([0,1])\n",
    "\n",
    "for idx in train_idx:\n",
    "    X_train = np.append(X_train,dataset.__getitem__(idx)['data'].reshape(1,341),axis=0)\n",
    "    Y_train = np.append(Y_train,dataset.__getitem__(idx)['target'].reshape(1,1),axis=0)\n",
    "    \n",
    "    \n",
    "    \n",
    "X_test = np.empty([0,341])\n",
    "Y_test = np.empty([0,1])\n",
    "M_test = np.empty([0,1])\n",
    "for idx in test_idx:\n",
    "    X_test = np.append(X_test,dataset.__getitem__(idx)['data'].reshape(1,341),axis=0)\n",
    "    Y_test = np.append(Y_test,dataset.__getitem__(idx)['target'].reshape(1,1),axis=0)\n",
    "    M_test =  np.append(M_test,dataset.mcvd_data.iloc[idx,0])\n"
   ]
  },
  {
   "cell_type": "code",
   "execution_count": 27,
   "metadata": {
    "collapsed": true
   },
   "outputs": [],
   "source": [
    "df = dataset.mcvd_data.loc[train_idx].reset_index()\n",
    "idxcv1 = df.loc[df['adjustment'] !=0].index.values\n",
    "\n",
    "idxcv2 = df.loc[df['adjustment'] ==0].index.values\n",
    "\n",
    "cv1 = np.array_split(idxcv1, k_fold)\n",
    "cv2 = np.array_split(idxcv2, k_fold)\n",
    "\n",
    "\n",
    "folds = [np.concatenate((cv1[i], cv2[i])) for i in range(k_fold)]"
   ]
  },
  {
   "cell_type": "code",
   "execution_count": null,
   "metadata": {
    "collapsed": true
   },
   "outputs": [],
   "source": []
  },
  {
   "cell_type": "code",
   "execution_count": 28,
   "metadata": {},
   "outputs": [
    {
     "name": "stdout",
     "output_type": "stream",
     "text": [
      "fold: 1\n",
      "best MSE: 0.117638874662\n",
      "best lambda: 27843.4060677 \n",
      "\n",
      "fold: 2\n",
      "best MSE: 0.0237854018976\n",
      "best lambda: 100000.0 \n",
      "\n",
      "fold: 3\n",
      "best MSE: 0.0118319582896\n",
      "best lambda: 100000.0 \n",
      "\n",
      "fold: 4\n",
      "best MSE: 0.0216310183759\n",
      "best lambda: 100000.0 \n",
      "\n",
      "fold: 5\n",
      "best MSE: 0.0216217272771\n",
      "best lambda: 10580.6477499 \n",
      "\n"
     ]
    }
   ],
   "source": [
    "# CV\n",
    "idx_cv = np.random.choice(np.arange(X_train.shape[0]), replace=False, size=int(X_train.shape[0] * split))\n",
    "\n",
    "\n",
    "# hyperparamters\n",
    "n_steps = 2000\n",
    "my_lambda = np.logspace(start=-5, stop=5, num=n_steps)\n",
    "dev_loss = np.empty((k_fold, n_steps))\n",
    "\n",
    "\n",
    "for i, idx_dev_cv in enumerate(folds):\n",
    "    print(\"fold: \" + str(i+1))\n",
    "\n",
    "    \n",
    "    idx_train_cv = np.array([i for i in np.arange(X_train.shape[0]) if not i in idx_dev_cv])\n",
    "    # create train and dev data\n",
    "    \n",
    "    X_train_cv = X_train[idx_train_cv,]\n",
    "    Y_train_cv = Y_train[idx_train_cv]\n",
    "    \n",
    "    X_dev_cv = X_train[idx_dev_cv,]\n",
    "    Y_dev_cv = Y_train[idx_dev_cv]\n",
    "\n",
    "    # find properties...\n",
    "    mean = np.mean(X_train_cv, axis=0)\n",
    "    std = np.std(X_train_cv, axis=0)\n",
    "    train_max = np.max(Y_train_cv)\n",
    "    train_min = np.min(Y_train_cv)\n",
    "    # min = np.min(X_train_cv, axis=0)\n",
    "    # max = np.max(X_train_cv, axis=0)\n",
    "    \n",
    "    \n",
    "    # pre-process\n",
    "    #X_train_cv = zscale(X_train_cv, mean, std)\n",
    "    #X_dev_cv = zscale(X_dev_cv, mean, std)\n",
    "    #X_train_cv = norma(X_train_cv, mean, std)\n",
    "    #X_dev_cv = norma(X_dev_cv, mean, std)\n",
    "    \n",
    "    \n",
    "    for j, lam in enumerate(my_lambda):\n",
    "        # fit \n",
    "        # clf = Ridge(alpha=lam, fit_intercept=False, normalize=True)\n",
    "        # clf.fit(X_train_cv, Y_train_cv)\n",
    "        betas = ridge_regression(X_train_cv, Y_train_cv, lam)\n",
    "        \n",
    "        # predict and get loss\n",
    "        # Y_dev_cv_hat = clf.predict(X_dev_cv)\n",
    "        Y_dev_cv_hat = np.dot(X_dev_cv, betas)\n",
    "        dev_loss[i,j] = np.sum(np.power(Y_dev_cv - Y_dev_cv_hat,2))\n",
    "        \n",
    "        \n",
    "    print('best MSE:', np.min(dev_loss[i,]))\n",
    "    print('best lambda:', my_lambda[np.argmin(dev_loss[i,])], '\\n')\n"
   ]
  },
  {
   "cell_type": "code",
   "execution_count": 29,
   "metadata": {},
   "outputs": [
    {
     "name": "stdout",
     "output_type": "stream",
     "text": [
      "the opt. lambda is: 67684.8107635\n",
      "best MSE: 0.000454439687166\n"
     ]
    }
   ],
   "source": [
    "# # One std. error rule\n",
    "# std_means = np.std(dev_loss, axis=0) / np.sqrt(k_fold)\n",
    "# mse_means = np.mean(dev_loss, axis=0)\n",
    "# best_idx_std_means = np.argmin(std_means)\n",
    "# best_idx_std_means = np.max(np.where(std_means[best_idx_std_means] + std_means[best_idx_std_means] > std_means)[0])\n",
    "# my_lambda_opt = my_lambda[best_idx_std_means]\n",
    "\n",
    "# # GLOBAL\n",
    "# my_lambda_opt = my_lambda[np.argmin(np.mean(dev_loss, axis=0))]\n",
    "\n",
    "# LOCAL\n",
    "my_lambda_opt = np.mean([my_lambda[np.argmin(dev_loss[i,])] for i in range(dev_loss.shape[0])])\n",
    "print('the opt. lambda is: ' + str(my_lambda_opt))\n",
    "\n",
    "# find properties...\n",
    "mean = np.mean(X_train, axis=0)\n",
    "std = np.std(X_train, axis=0)\n",
    "train_max = np.max(Y_train)\n",
    "train_min = np.min(Y_train)\n",
    "# min = np.min(X_train_cv, axis=0)\n",
    "# max = np.max(X_train_cv, axis=0)\n",
    "\n",
    "# pre-process\n",
    "#X_train = zscale(X_train, mean, std)\n",
    "#X_test = zscale(X_test, mean, std)\n",
    "\n",
    "#Y_train = norma(Y_train, mean, std)\n",
    "#Y_test = norma(Y_test, mean, std)\n",
    "\n",
    "#clf = Ridge(alpha=my_lambda_opt)\n",
    "#clf.fit(X_train, Y_train)\n",
    "betas_opt = ridge_regression(X_train, Y_train, lam)\n",
    "Y_test_hat = np.dot(X_test, betas_opt)\n",
    "#Y_test_hat = clf.predict(X_test)\n",
    "\n",
    "print('best MSE:', np.mean(np.power(Y_test - Y_test_hat,2)))\n",
    "\n"
   ]
  },
  {
   "cell_type": "code",
   "execution_count": 30,
   "metadata": {},
   "outputs": [
    {
     "name": "stdout",
     "output_type": "stream",
     "text": [
      "MSE_train: 0.0005898952477351343\n",
      "MSE_valid: 0.000454439687165606\n"
     ]
    }
   ],
   "source": [
    "print('MSE_train: {}'.format(mean_squared_error(Y_train,np.dot(X_train, betas_opt))))\n",
    "print('MSE_valid: {}'.format(mean_squared_error(Y_test,np.dot(X_test, betas_opt))))\n"
   ]
  },
  {
   "cell_type": "code",
   "execution_count": 31,
   "metadata": {
    "collapsed": true
   },
   "outputs": [],
   "source": [
    "X_test = np.empty([0,341])\n",
    "Y_test = np.empty([0,1])\n",
    "M_test = np.empty([0,1])\n",
    "for idx in test_idx:\n",
    "    X_test = np.append(X_test,dataset.__getitem__(idx)['data'].reshape(1,341),axis=0)\n",
    "    Y_test = np.append(Y_test,dataset.__getitem__(idx)['target'].reshape(1,1),axis=0)\n",
    "    M_test =  np.append(M_test,dataset.mcvd_data.iloc[idx,0])\n",
    "\n",
    "# pre-process\n",
    "#X_test = zscale(X_test, mean, std)\n",
    "#X_test = norma(X_test, mean, std)"
   ]
  },
  {
   "cell_type": "code",
   "execution_count": 32,
   "metadata": {},
   "outputs": [
    {
     "data": {
      "image/png": "[encoded data removed]",
      "text/plain": [
       "<matplotlib.figure.Figure at 0x1faf6ef1d30>"
      ]
     },
     "metadata": {},
     "output_type": "display_data"
    }
   ],
   "source": [
    "from matplotlib.lines import Line2D\n",
    "Title = \"True value vs residual\"\n",
    "x_label =\"True value\"\n",
    "y_label = \"Residual\"\n",
    "savename = \"Ridge-raw\"\n",
    "\n",
    "custom_lines = [Line2D([0], [0], color='black',marker='o',linestyle='none'),\n",
    "                Line2D([0], [0], color='dodgerblue',marker='o',linestyle='none'),\n",
    "                Line2D([0], [0], color='red',marker='o',linestyle='none'),\n",
    "               Line2D([0], [0], color='green',marker='o',linestyle='none')]\n",
    "\n",
    "color_map = {'m21' : 'black','m22': 'dodgerblue','m24': 'red','m25':'green'}\n",
    "preds = np.dot(X_test, betas_opt)\n",
    "\n",
    "\n",
    "for i,m in enumerate(M_test):\n",
    "    color = color_map[m]\n",
    "    plt.plot(Y_test[i],preds[i]-Y_test[i],marker='o', color=color,linestyle='none')\n",
    "    \n",
    "    \n",
    "    \n",
    "plt.axhline(y=0.0, color='blue', linestyle=':')  \n",
    "ax = plt.gca()\n",
    "ax.legend(custom_lines, ['M21', 'M22', 'M24','M25'],bbox_to_anchor=(1.27, 1),fontsize='x-large')\n",
    "ax.set_xlabel(x_label,size=15)\n",
    "ax.set_ylabel(y_label,size=15)\n",
    "ax.xaxis.set_tick_params(labelsize=12)\n",
    "ax.yaxis.set_tick_params(labelsize=12)\n",
    "ax.set_title(Title,size=15)\n",
    "fig = ax.get_figure()\n",
    "plt.show()\n",
    "fig.savefig(\"{}.pdf\".format(savename), bbox_inches='tight')#"
   ]
  },
  {
   "cell_type": "code",
   "execution_count": 15,
   "metadata": {
    "collapsed": true
   },
   "outputs": [],
   "source": [
    "# settings\n",
    "Title = \"True value vs residual\"\n",
    "x_label =\"True value\"\n",
    "y_label = \"Residual\"\n",
    "savename = \"Ridge-raw\"\n",
    "\n",
    "plt.plot(S['True'],S['Pred']-S['True'],marker='o', color='dodgerblue',linestyle='none')\n",
    "ax = plt.gca()\n",
    "ax.set_xlabel(x_label,size=15)\n",
    "ax.set_ylabel(y_label,size=15)\n",
    "ax.xaxis.set_tick_params(labelsize=12)\n",
    "ax.yaxis.set_tick_params(labelsize=12)\n",
    "ax.set_title(Title,size=15)\n",
    "fig = ax.get_figure()\n",
    "#fig.savefig(\"{}.pdf\".format(savename), bbox_inches='tight')#"
   ]
  },
  {
   "cell_type": "code",
   "execution_count": 16,
   "metadata": {},
   "outputs": [
    {
     "data": {
      "image/png": "[encoded data removed]",
      "text/plain": [
       "<matplotlib.figure.Figure at 0x204704f3b38>"
      ]
     },
     "metadata": {},
     "output_type": "display_data"
    }
   ],
   "source": [
    "plt.show()"
   ]
  },
  {
   "cell_type": "code",
   "execution_count": 15,
   "metadata": {},
   "outputs": [
    {
     "data": {
      "text/plain": [
       "MSE_train                                          0.000361334\n",
       "MSE_valid                                          0.000212982\n",
       "Pred         [0.0173350552471, 0.000585133882966, 0.0133309...\n",
       "True         [0.0, 0.0, 0.06, 0.05, 0.0, 0.0, 0.0, -0.01, 0...\n",
       "dtype: object"
      ]
     },
     "execution_count": 15,
     "metadata": {},
     "output_type": "execute_result"
    }
   ],
   "source": [
    "S"
   ]
  },
  {
   "cell_type": "markdown",
   "metadata": {},
   "source": [
    "##  Raw input, exclude 0"
   ]
  },
  {
   "cell_type": "code",
   "execution_count": 16,
   "metadata": {
    "scrolled": true
   },
   "outputs": [
    {
     "name": "stdout",
     "output_type": "stream",
     "text": [
      "fold: 1\n",
      "best MSE: 0.156135644841\n",
      "best lambda: 43633.4858587 \n",
      "\n",
      "fold: 2\n",
      "best MSE: 0.0244054674076\n",
      "best lambda: 100000.0 \n",
      "\n",
      "fold: 3\n",
      "best MSE: 0.0180149747595\n",
      "best lambda: 100000.0 \n",
      "\n",
      "fold: 4\n",
      "best MSE: 0.0406224775806\n",
      "best lambda: 57528.0879853 \n",
      "\n",
      "fold: 5\n",
      "best MSE: 0.0320738325323\n",
      "best lambda: 100000.0 \n",
      "\n",
      "the opt. lambda is: 80232.3147688\n",
      "best MSE: 0.000402137872537\n"
     ]
    }
   ],
   "source": [
    "dataset = MCVDDataset(csv_file='dataset.csv')\n",
    "dataset.mcvd_data = dataset.mcvd_data.drop('Unnamed: 0',axis=1)\n",
    "dataset.mcvd_data['starttime'] = pd.to_datetime(dataset.mcvd_data['starttime'])\n",
    "dataset.mcvd_data = dataset.mcvd_data[dataset.mcvd_data['adjustment'] != 0].reset_index(drop=True)\n",
    "\n",
    "randomseed=23\n",
    "k_fold=5\n",
    "split = 0.20\n",
    "train_idx, test_idx = get_valid_train_split(dataset.mcvd_data,split=split,randomseed=randomseed,silent=True)\n",
    "\n",
    "X_train = np.empty([0,344])\n",
    "Y_train = np.empty([0,1])\n",
    "for idx in train_idx:\n",
    "    X_train = np.append(X_train,dataset.__getitem__(idx)['data'].reshape(1,344),axis=0)\n",
    "    Y_train = np.append(Y_train,dataset.__getitem__(idx)['target'].reshape(1,1),axis=0)\n",
    "    \n",
    "    \n",
    "X_test = np.empty([0,344])\n",
    "Y_test = np.empty([0,1])\n",
    "for idx in test_idx:\n",
    "    X_test = np.append(X_test,dataset.__getitem__(idx)['data'].reshape(1,344),axis=0)\n",
    "    Y_test = np.append(Y_test,dataset.__getitem__(idx)['target'].reshape(1,1),axis=0)\n",
    "    \n",
    "\n",
    "\n",
    "df = dataset.mcvd_data.loc[train_idx].reset_index()\n",
    "idxcv1 = df.loc[df['adjustment'] !=0].index.values\n",
    "\n",
    "idxcv2 = df.loc[df['adjustment'] ==0].index.values\n",
    "\n",
    "cv1 = np.array_split(idxcv1, k_fold)\n",
    "cv2 = np.array_split(idxcv2, k_fold)\n",
    "\n",
    "\n",
    "folds = [np.concatenate((cv1[i], cv2[i])) for i in range(k_fold)]\n",
    "\n",
    "# CV\n",
    "idx_cv = np.random.choice(np.arange(X_train.shape[0]), replace=False, size=int(X_train.shape[0] * split))\n",
    "\n",
    "\n",
    "# hyperparamters\n",
    "n_steps = 2000\n",
    "my_lambda = np.logspace(start=-5, stop=5, num=n_steps)\n",
    "dev_loss = np.empty((k_fold, n_steps))\n",
    "\n",
    "\n",
    "for i, idx_dev_cv in enumerate(folds):\n",
    "    print(\"fold: \" + str(i+1))\n",
    "\n",
    "    \n",
    "    idx_train_cv = np.array([i for i in np.arange(X_train.shape[0]) if not i in idx_dev_cv])\n",
    "    # create train and dev data\n",
    "    \n",
    "    X_train_cv = X_train[idx_train_cv,]\n",
    "    Y_train_cv = Y_train[idx_train_cv]\n",
    "    \n",
    "    X_dev_cv = X_train[idx_dev_cv,]\n",
    "    Y_dev_cv = Y_train[idx_dev_cv]\n",
    "\n",
    "    # find properties...\n",
    "    mean = np.mean(X_train_cv, axis=0)\n",
    "    std = np.std(X_train_cv, axis=0)\n",
    "    # min = np.min(X_train_cv, axis=0)\n",
    "    # max = np.max(X_train_cv, axis=0)\n",
    "    \n",
    "    \n",
    "    # pre-process\n",
    "    #X_train_cv = zscale(X_train_cv, mean, std)\n",
    "    #X_dev_cv = zscale(X_dev_cv, mean, std)\n",
    "    # X_train_cv = norma(X_train_cv, mean, std)\n",
    "    # X_dev_cv = norma(X_dev_cv, mean, std)\n",
    "    \n",
    "    \n",
    "    for j, lam in enumerate(my_lambda):\n",
    "        # fit \n",
    "        # clf = Ridge(alpha=lam, fit_intercept=False, normalize=True)\n",
    "        # clf.fit(X_train_cv, Y_train_cv)\n",
    "        betas = ridge_regression(X_train_cv, Y_train_cv, lam)\n",
    "        \n",
    "        # predict and get loss\n",
    "        # Y_dev_cv_hat = clf.predict(X_dev_cv)\n",
    "        Y_dev_cv_hat = np.dot(X_dev_cv, betas)\n",
    "        dev_loss[i,j] = np.sum(np.power(Y_dev_cv - Y_dev_cv_hat,2))\n",
    "        \n",
    "        \n",
    "    print('best MSE:', np.min(dev_loss[i,]))\n",
    "    print('best lambda:', my_lambda[np.argmin(dev_loss[i,])], '\\n')\n",
    "\n",
    "\n",
    "# # One std. error rule\n",
    "# std_means = np.std(dev_loss, axis=0) / np.sqrt(k_fold)\n",
    "# mse_means = np.mean(dev_loss, axis=0)\n",
    "# best_idx_std_means = np.argmin(std_means)\n",
    "# best_idx_std_means = np.max(np.where(std_means[best_idx_std_means] + std_means[best_idx_std_means] > std_means)[0])\n",
    "# my_lambda_opt = my_lambda[best_idx_std_means]\n",
    "\n",
    "# # GLOBAL\n",
    "# my_lambda_opt = my_lambda[np.argmin(np.mean(dev_loss, axis=0))]\n",
    "\n",
    "# LOCAL\n",
    "my_lambda_opt = np.mean([my_lambda[np.argmin(dev_loss[i,])] for i in range(dev_loss.shape[0])])\n",
    "print('the opt. lambda is: ' + str(my_lambda_opt))\n",
    "\n",
    "# find properties...\n",
    "mean = np.mean(X_train, axis=0)\n",
    "std = np.std(X_train, axis=0)\n",
    "# min = np.min(X_train_cv, axis=0)\n",
    "# max = np.max(X_train_cv, axis=0)\n",
    "\n",
    "# pre-process\n",
    "#X_train = zscale(X_train, mean, std)\n",
    "#X_test = zscale(X_test, mean, std)\n",
    "# X_train = norma(X_train, mean, std)\n",
    "# X_test = norma(X_test, mean, std)\n",
    "\n",
    "#clf = Ridge(alpha=my_lambda_opt)\n",
    "#clf.fit(X_train, Y_train)\n",
    "betas_opt = ridge_regression(X_train, Y_train, lam)\n",
    "Y_test_hat = np.dot(X_test, betas_opt)\n",
    "#Y_test_hat = clf.predict(X_test)\n",
    "\n",
    "print('best MSE:', np.mean(np.power(Y_test - Y_test_hat,2)))\n",
    "\n",
    "\n",
    "\n",
    "\n",
    "\n",
    "S = pd.Series({'MSE_train' : mean_squared_error(Y_train,np.dot(X_train, betas_opt)),\n",
    "                   'MSE_valid' : mean_squared_error(Y_test,np.dot(X_test, betas_opt)),\n",
    "                   'Pred' : np.dot(X_test, betas_opt).reshape(-1),\n",
    "                   'True' : Y_test.reshape(-1)})\n",
    "\n",
    "# settings\n",
    "Title = \"True value vs residual\"\n",
    "x_label =\"True value\"\n",
    "y_label = \"Residual\"\n",
    "savename = \"Ridge-raw-excl0\"\n",
    "\n",
    "plt.plot(S['True'],S['Pred']-S['True'],marker='o', color='dodgerblue',linestyle='none')\n",
    "ax = plt.gca()\n",
    "ax.set_xlabel(x_label,size=15)\n",
    "ax.set_ylabel(y_label,size=15)\n",
    "ax.xaxis.set_tick_params(labelsize=12)\n",
    "ax.yaxis.set_tick_params(labelsize=12)\n",
    "ax.set_title(Title,size=15)\n",
    "fig = ax.get_figure()\n",
    "fig.savefig(\"{}.pdf\".format(savename), bbox_inches='tight')#"
   ]
  },
  {
   "cell_type": "code",
   "execution_count": 17,
   "metadata": {},
   "outputs": [
    {
     "data": {
      "text/plain": [
       "MSE_train                                          0.000701733\n",
       "MSE_valid                                          0.000402138\n",
       "Pred         [0.0243597413421, 0.0184859864039, 0.008361346...\n",
       "True         [0.06, 0.05, -0.01, 0.04, 0.03, 0.01, 0.02, 0....\n",
       "dtype: object"
      ]
     },
     "execution_count": 17,
     "metadata": {},
     "output_type": "execute_result"
    }
   ],
   "source": [
    "S"
   ]
  },
  {
   "cell_type": "markdown",
   "metadata": {},
   "source": [
    "## Normalized input data"
   ]
  },
  {
   "cell_type": "code",
   "execution_count": 18,
   "metadata": {},
   "outputs": [
    {
     "name": "stdout",
     "output_type": "stream",
     "text": [
      "fold: 1\n",
      "best MSE: 0.133547756038\n",
      "best lambda: 11.1692500051 \n",
      "\n",
      "fold: 2\n",
      "best MSE: 0.0221533451849\n",
      "best lambda: 353.813489813 \n",
      "\n",
      "fold: 3\n",
      "best MSE: 0.015181649293\n",
      "best lambda: 0.875933700488 \n",
      "\n",
      "fold: 4\n",
      "best MSE: 0.014060140248\n",
      "best lambda: 10827.2274109 \n",
      "\n",
      "fold: 5\n",
      "best MSE: 0.0135557890361\n",
      "best lambda: 100000.0 \n",
      "\n",
      "the opt. lambda is: 22238.6172169\n",
      "best MSE: 0.000233060507628\n"
     ]
    }
   ],
   "source": [
    "min_max_scaler = MinMaxScaler()\n",
    "dataset = MCVDDataset(csv_file='dataset.csv')\n",
    "dataset.mcvd_data = dataset.mcvd_data.drop('Unnamed: 0',axis=1)\n",
    "dataset.mcvd_data.iloc[:,6:306] = min_max_scaler.fit_transform(dataset.mcvd_data.iloc[:,6:306].T).T\n",
    "dataset.mcvd_data['starttime'] = pd.to_datetime(dataset.mcvd_data['starttime'])\n",
    "\n",
    "randomseed=23\n",
    "k_fold=5\n",
    "split = 0.20\n",
    "train_idx, test_idx = get_valid_train_split(dataset.mcvd_data,split=split,randomseed=randomseed,silent=True)\n",
    "\n",
    "X_train = np.empty([0,344])\n",
    "Y_train = np.empty([0,1])\n",
    "for idx in train_idx:\n",
    "    X_train = np.append(X_train,dataset.__getitem__(idx)['data'].reshape(1,344),axis=0)\n",
    "    Y_train = np.append(Y_train,dataset.__getitem__(idx)['target'].reshape(1,1),axis=0)\n",
    "    \n",
    "    \n",
    "X_test = np.empty([0,344])\n",
    "Y_test = np.empty([0,1])\n",
    "for idx in test_idx:\n",
    "    X_test = np.append(X_test,dataset.__getitem__(idx)['data'].reshape(1,344),axis=0)\n",
    "    Y_test = np.append(Y_test,dataset.__getitem__(idx)['target'].reshape(1,1),axis=0)\n",
    "    \n",
    "\n",
    "\n",
    "df = dataset.mcvd_data.loc[train_idx].reset_index()\n",
    "idxcv1 = df.loc[df['adjustment'] !=0].index.values\n",
    "\n",
    "idxcv2 = df.loc[df['adjustment'] ==0].index.values\n",
    "\n",
    "cv1 = np.array_split(idxcv1, k_fold)\n",
    "cv2 = np.array_split(idxcv2, k_fold)\n",
    "\n",
    "\n",
    "folds = [np.concatenate((cv1[i], cv2[i])) for i in range(k_fold)]\n",
    "\n",
    "# CV\n",
    "idx_cv = np.random.choice(np.arange(X_train.shape[0]), replace=False, size=int(X_train.shape[0] * split))\n",
    "\n",
    "\n",
    "# hyperparamters\n",
    "n_steps = 2000\n",
    "my_lambda = np.logspace(start=-5, stop=5, num=n_steps)\n",
    "dev_loss = np.empty((k_fold, n_steps))\n",
    "\n",
    "\n",
    "for i, idx_dev_cv in enumerate(folds):\n",
    "    print(\"fold: \" + str(i+1))\n",
    "\n",
    "    \n",
    "    idx_train_cv = np.array([i for i in np.arange(X_train.shape[0]) if not i in idx_dev_cv])\n",
    "    # create train and dev data\n",
    "    \n",
    "    X_train_cv = X_train[idx_train_cv,]\n",
    "    Y_train_cv = Y_train[idx_train_cv]\n",
    "    \n",
    "    X_dev_cv = X_train[idx_dev_cv,]\n",
    "    Y_dev_cv = Y_train[idx_dev_cv]\n",
    "\n",
    "    # find properties...\n",
    "    mean = np.mean(X_train_cv, axis=0)\n",
    "    std = np.std(X_train_cv, axis=0)\n",
    "    # min = np.min(X_train_cv, axis=0)\n",
    "    # max = np.max(X_train_cv, axis=0)\n",
    "    \n",
    "    \n",
    "    # pre-process\n",
    "    #X_train_cv = zscale(X_train_cv, mean, std)\n",
    "    #X_dev_cv = zscale(X_dev_cv, mean, std)\n",
    "    # X_train_cv = norma(X_train_cv, mean, std)\n",
    "    # X_dev_cv = norma(X_dev_cv, mean, std)\n",
    "    \n",
    "    \n",
    "    for j, lam in enumerate(my_lambda):\n",
    "        # fit \n",
    "        # clf = Ridge(alpha=lam, fit_intercept=False, normalize=True)\n",
    "        # clf.fit(X_train_cv, Y_train_cv)\n",
    "        betas = ridge_regression(X_train_cv, Y_train_cv, lam)\n",
    "        \n",
    "        # predict and get loss\n",
    "        # Y_dev_cv_hat = clf.predict(X_dev_cv)\n",
    "        Y_dev_cv_hat = np.dot(X_dev_cv, betas)\n",
    "        dev_loss[i,j] = np.sum(np.power(Y_dev_cv - Y_dev_cv_hat,2))\n",
    "        \n",
    "        \n",
    "    print('best MSE:', np.min(dev_loss[i,]))\n",
    "    print('best lambda:', my_lambda[np.argmin(dev_loss[i,])], '\\n')\n",
    "\n",
    "\n",
    "# # One std. error rule\n",
    "# std_means = np.std(dev_loss, axis=0) / np.sqrt(k_fold)\n",
    "# mse_means = np.mean(dev_loss, axis=0)\n",
    "# best_idx_std_means = np.argmin(std_means)\n",
    "# best_idx_std_means = np.max(np.where(std_means[best_idx_std_means] + std_means[best_idx_std_means] > std_means)[0])\n",
    "# my_lambda_opt = my_lambda[best_idx_std_means]\n",
    "\n",
    "# # GLOBAL\n",
    "# my_lambda_opt = my_lambda[np.argmin(np.mean(dev_loss, axis=0))]\n",
    "\n",
    "# LOCAL\n",
    "my_lambda_opt = np.mean([my_lambda[np.argmin(dev_loss[i,])] for i in range(dev_loss.shape[0])])\n",
    "print('the opt. lambda is: ' + str(my_lambda_opt))\n",
    "\n",
    "# find properties...\n",
    "mean = np.mean(X_train, axis=0)\n",
    "std = np.std(X_train, axis=0)\n",
    "# min = np.min(X_train_cv, axis=0)\n",
    "# max = np.max(X_train_cv, axis=0)\n",
    "\n",
    "# pre-process\n",
    "#X_train = zscale(X_train, mean, std)\n",
    "#X_test = zscale(X_test, mean, std)\n",
    "# X_train = norma(X_train, mean, std)\n",
    "# X_test = norma(X_test, mean, std)\n",
    "\n",
    "#clf = Ridge(alpha=my_lambda_opt)\n",
    "#clf.fit(X_train, Y_train)\n",
    "betas_opt = ridge_regression(X_train, Y_train, lam)\n",
    "Y_test_hat = np.dot(X_test, betas_opt)\n",
    "#Y_test_hat = clf.predict(X_test)\n",
    "\n",
    "print('best MSE:', np.mean(np.power(Y_test - Y_test_hat,2)))\n",
    "\n",
    "\n",
    "\n",
    "\n",
    "\n",
    "S = pd.Series({'MSE_train' : mean_squared_error(Y_train,np.dot(X_train, betas_opt)),\n",
    "                   'MSE_valid' : mean_squared_error(Y_test,np.dot(X_test, betas_opt)),\n",
    "                   'Pred' : np.dot(X_test, betas_opt).reshape(-1),\n",
    "                   'True' : Y_test.reshape(-1)})\n",
    "\n",
    "# settings\n",
    "Title = \"True value vs residual\"\n",
    "x_label =\"True value\"\n",
    "y_label = \"Residual\"\n",
    "savename = \"Ridge-norm\"\n",
    "\n",
    "plt.plot(S['True'],S['Pred']-S['True'],marker='o', color='dodgerblue',linestyle='none')\n",
    "ax = plt.gca()\n",
    "ax.set_xlabel(x_label,size=15)\n",
    "ax.set_ylabel(y_label,size=15)\n",
    "ax.xaxis.set_tick_params(labelsize=12)\n",
    "ax.yaxis.set_tick_params(labelsize=12)\n",
    "ax.set_title(Title,size=15)\n",
    "fig = ax.get_figure()\n",
    "fig.savefig(\"{}.pdf\".format(savename), bbox_inches='tight')#"
   ]
  },
  {
   "cell_type": "code",
   "execution_count": 19,
   "metadata": {},
   "outputs": [
    {
     "data": {
      "text/plain": [
       "MSE_train                                          0.000374857\n",
       "MSE_valid                                          0.000233061\n",
       "Pred         [0.000496754995387, 0.000499962101037, 0.00049...\n",
       "True         [0.0, 0.0, 0.06, 0.05, 0.0, 0.0, 0.0, -0.01, 0...\n",
       "dtype: object"
      ]
     },
     "execution_count": 19,
     "metadata": {},
     "output_type": "execute_result"
    }
   ],
   "source": [
    "S"
   ]
  },
  {
   "cell_type": "markdown",
   "metadata": {},
   "source": [
    "# Normalized excluding 0"
   ]
  },
  {
   "cell_type": "code",
   "execution_count": 20,
   "metadata": {},
   "outputs": [
    {
     "name": "stdout",
     "output_type": "stream",
     "text": [
      "fold: 1\n",
      "best MSE: 0.133204646864\n",
      "best lambda: 3.65410809742 \n",
      "\n",
      "fold: 2\n",
      "best MSE: 0.0220835961156\n",
      "best lambda: 187.774588281 \n",
      "\n",
      "fold: 3\n",
      "best MSE: 0.0143247820022\n",
      "best lambda: 0.42886060911 \n",
      "\n",
      "fold: 4\n",
      "best MSE: 0.0138444669485\n",
      "best lambda: 5424.5933046 \n",
      "\n",
      "fold: 5\n",
      "best MSE: 0.0135430934889\n",
      "best lambda: 100000.0 \n",
      "\n",
      "the opt. lambda is: 21123.2901723\n",
      "best MSE: 0.00048180168611\n"
     ]
    }
   ],
   "source": [
    "dataset = MCVDDataset(csv_file='dataset.csv')\n",
    "dataset.mcvd_data = dataset.mcvd_data.drop('Unnamed: 0',axis=1)\n",
    "dataset.mcvd_data.iloc[:,6:306] = min_max_scaler.fit_transform(dataset.mcvd_data.iloc[:,6:306].T).T\n",
    "dataset.mcvd_data['starttime'] = pd.to_datetime(dataset.mcvd_data['starttime'])\n",
    "dataset.mcvd_data = dataset.mcvd_data[dataset.mcvd_data['adjustment'] != 0].reset_index(drop=True)\n",
    "\n",
    "randomseed=23\n",
    "k_fold=5\n",
    "split = 0.20\n",
    "train_idx, test_idx = get_valid_train_split(dataset.mcvd_data,split=split,randomseed=randomseed,silent=True)\n",
    "\n",
    "X_train = np.empty([0,344])\n",
    "Y_train = np.empty([0,1])\n",
    "for idx in train_idx:\n",
    "    X_train = np.append(X_train,dataset.__getitem__(idx)['data'].reshape(1,344),axis=0)\n",
    "    Y_train = np.append(Y_train,dataset.__getitem__(idx)['target'].reshape(1,1),axis=0)\n",
    "    \n",
    "    \n",
    "X_test = np.empty([0,344])\n",
    "Y_test = np.empty([0,1])\n",
    "for idx in test_idx:\n",
    "    X_test = np.append(X_test,dataset.__getitem__(idx)['data'].reshape(1,344),axis=0)\n",
    "    Y_test = np.append(Y_test,dataset.__getitem__(idx)['target'].reshape(1,1),axis=0)\n",
    "    \n",
    "\n",
    "\n",
    "df = dataset.mcvd_data.loc[train_idx].reset_index()\n",
    "idxcv1 = df.loc[df['adjustment'] !=0].index.values\n",
    "\n",
    "idxcv2 = df.loc[df['adjustment'] ==0].index.values\n",
    "\n",
    "cv1 = np.array_split(idxcv1, k_fold)\n",
    "cv2 = np.array_split(idxcv2, k_fold)\n",
    "\n",
    "\n",
    "folds = [np.concatenate((cv1[i], cv2[i])) for i in range(k_fold)]\n",
    "\n",
    "# CV\n",
    "idx_cv = np.random.choice(np.arange(X_train.shape[0]), replace=False, size=int(X_train.shape[0] * split))\n",
    "\n",
    "\n",
    "# hyperparamters\n",
    "n_steps = 2000\n",
    "my_lambda = np.logspace(start=-5, stop=5, num=n_steps)\n",
    "dev_loss = np.empty((k_fold, n_steps))\n",
    "\n",
    "\n",
    "for i, idx_dev_cv in enumerate(folds):\n",
    "    print(\"fold: \" + str(i+1))\n",
    "\n",
    "    \n",
    "    idx_train_cv = np.array([i for i in np.arange(X_train.shape[0]) if not i in idx_dev_cv])\n",
    "    # create train and dev data\n",
    "    \n",
    "    X_train_cv = X_train[idx_train_cv,]\n",
    "    Y_train_cv = Y_train[idx_train_cv]\n",
    "    \n",
    "    X_dev_cv = X_train[idx_dev_cv,]\n",
    "    Y_dev_cv = Y_train[idx_dev_cv]\n",
    "\n",
    "    # find properties...\n",
    "    mean = np.mean(X_train_cv, axis=0)\n",
    "    std = np.std(X_train_cv, axis=0)\n",
    "    # min = np.min(X_train_cv, axis=0)\n",
    "    # max = np.max(X_train_cv, axis=0)\n",
    "    \n",
    "    \n",
    "    # pre-process\n",
    "    #X_train_cv = zscale(X_train_cv, mean, std)\n",
    "    #X_dev_cv = zscale(X_dev_cv, mean, std)\n",
    "    # X_train_cv = norma(X_train_cv, mean, std)\n",
    "    # X_dev_cv = norma(X_dev_cv, mean, std)\n",
    "    \n",
    "    \n",
    "    for j, lam in enumerate(my_lambda):\n",
    "        # fit \n",
    "        # clf = Ridge(alpha=lam, fit_intercept=False, normalize=True)\n",
    "        # clf.fit(X_train_cv, Y_train_cv)\n",
    "        betas = ridge_regression(X_train_cv, Y_train_cv, lam)\n",
    "        \n",
    "        # predict and get loss\n",
    "        # Y_dev_cv_hat = clf.predict(X_dev_cv)\n",
    "        Y_dev_cv_hat = np.dot(X_dev_cv, betas)\n",
    "        dev_loss[i,j] = np.sum(np.power(Y_dev_cv - Y_dev_cv_hat,2))\n",
    "        \n",
    "        \n",
    "    print('best MSE:', np.min(dev_loss[i,]))\n",
    "    print('best lambda:', my_lambda[np.argmin(dev_loss[i,])], '\\n')\n",
    "\n",
    "\n",
    "# # One std. error rule\n",
    "# std_means = np.std(dev_loss, axis=0) / np.sqrt(k_fold)\n",
    "# mse_means = np.mean(dev_loss, axis=0)\n",
    "# best_idx_std_means = np.argmin(std_means)\n",
    "# best_idx_std_means = np.max(np.where(std_means[best_idx_std_means] + std_means[best_idx_std_means] > std_means)[0])\n",
    "# my_lambda_opt = my_lambda[best_idx_std_means]\n",
    "\n",
    "# # GLOBAL\n",
    "# my_lambda_opt = my_lambda[np.argmin(np.mean(dev_loss, axis=0))]\n",
    "\n",
    "# LOCAL\n",
    "my_lambda_opt = np.mean([my_lambda[np.argmin(dev_loss[i,])] for i in range(dev_loss.shape[0])])\n",
    "print('the opt. lambda is: ' + str(my_lambda_opt))\n",
    "\n",
    "# find properties...\n",
    "mean = np.mean(X_train, axis=0)\n",
    "std = np.std(X_train, axis=0)\n",
    "# min = np.min(X_train_cv, axis=0)\n",
    "# max = np.max(X_train_cv, axis=0)\n",
    "\n",
    "# pre-process\n",
    "#X_train = zscale(X_train, mean, std)\n",
    "#X_test = zscale(X_test, mean, std)\n",
    "# X_train = norma(X_train, mean, std)\n",
    "# X_test = norma(X_test, mean, std)\n",
    "\n",
    "#clf = Ridge(alpha=my_lambda_opt)\n",
    "#clf.fit(X_train, Y_train)\n",
    "betas_opt = ridge_regression(X_train, Y_train, lam)\n",
    "Y_test_hat = np.dot(X_test, betas_opt)\n",
    "#Y_test_hat = clf.predict(X_test)\n",
    "\n",
    "print('best MSE:', np.mean(np.power(Y_test - Y_test_hat,2)))\n",
    "\n",
    "\n",
    "\n",
    "\n",
    "\n",
    "S = pd.Series({'MSE_train' : mean_squared_error(Y_train,np.dot(X_train, betas_opt)),\n",
    "                   'MSE_valid' : mean_squared_error(Y_test,np.dot(X_test, betas_opt)),\n",
    "                   'Pred' : np.dot(X_test, betas_opt).reshape(-1),\n",
    "                   'True' : Y_test.reshape(-1)})\n",
    "\n",
    "# settings\n",
    "Title = \"True value vs residual\"\n",
    "x_label =\"True value\"\n",
    "y_label = \"Residual\"\n",
    "savename = \"Ridge-norm-excl0\"\n",
    "\n",
    "plt.plot(S['True'],S['Pred']-S['True'],marker='o', color='dodgerblue',linestyle='none')\n",
    "ax = plt.gca()\n",
    "ax.set_xlabel(x_label,size=15)\n",
    "ax.set_ylabel(y_label,size=15)\n",
    "ax.xaxis.set_tick_params(labelsize=12)\n",
    "ax.yaxis.set_tick_params(labelsize=12)\n",
    "ax.set_title(Title,size=15)\n",
    "\n",
    "fig = ax.get_figure()\n",
    "fig.savefig(\"{}.pdf\".format(savename), bbox_inches='tight')#\n",
    "#ax.ticklabel_format(style='sci', axis='x', scilimits=(0,0),size=14)"
   ]
  },
  {
   "cell_type": "code",
   "execution_count": 21,
   "metadata": {},
   "outputs": [
    {
     "data": {
      "text/plain": [
       "MSE_train                                             0.000749\n",
       "MSE_valid                                          0.000481802\n",
       "Pred         [0.000665413014304, 0.000666494694588, 0.00067...\n",
       "True         [0.06, 0.05, -0.01, 0.04, 0.03, 0.01, 0.02, 0....\n",
       "dtype: object"
      ]
     },
     "execution_count": 21,
     "metadata": {},
     "output_type": "execute_result"
    }
   ],
   "source": [
    "S"
   ]
  }
 ],
 "metadata": {
  "kernelspec": {
   "display_name": "Python 3",
   "language": "python",
   "name": "python3"
  },
  "language_info": {
   "codemirror_mode": {
    "name": "ipython",
    "version": 3
   },
   "file_extension": ".py",
   "mimetype": "text/x-python",
   "name": "python",
   "nbconvert_exporter": "python",
   "pygments_lexer": "ipython3",
   "version": "3.6.3"
  }
 },
 "nbformat": 4,
 "nbformat_minor": 2
}
