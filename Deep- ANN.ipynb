{
 "cells": [
  {
   "cell_type": "code",
   "execution_count": 1,
   "metadata": {
    "collapsed": true
   },
   "outputs": [],
   "source": [
    "import torch\n",
    "from torch.autograd import Variable\n",
    "from torch.nn.parameter import Parameter\n",
    "import torch.nn as nn\n",
    "import torch.nn.functional as F\n",
    "import torch.optim as optim\n",
    "import torch.nn.init as init\n",
    "from torch.utils.data import Dataset, DataLoader\n",
    "from torch.utils.data.sampler import SubsetRandomSampler\n"
   ]
  },
  {
   "cell_type": "code",
   "execution_count": 2,
   "metadata": {
    "collapsed": true
   },
   "outputs": [],
   "source": [
    "import pandas as pd\n",
    "import numpy as np\n",
    "import matplotlib.pyplot as plt\n",
    "from matplotlib.lines import Line2D\n",
    "from sklearn.model_selection import train_test_split\n",
    "from sklearn.preprocessing import MinMaxScaler,normalize\n",
    "from sklearn.metrics import mean_squared_error\n",
    "import pylab as pl\n",
    "import matplotlib.pyplot as plt\n",
    "from IPython import display\n",
    "import datetime\n",
    "from tqdm import tqdm\n",
    "import random\n",
    "import time\n",
    "from sklearn.model_selection import train_test_split, KFold, cross_val_score"
   ]
  },
  {
   "cell_type": "code",
   "execution_count": 3,
   "metadata": {
    "collapsed": true
   },
   "outputs": [],
   "source": [
    "randomseed= 23\n",
    "epochs = 1200\n",
    "valid_every = 2\n",
    "criterion = nn.MSELoss()"
   ]
  },
  {
   "cell_type": "code",
   "execution_count": 4,
   "metadata": {
    "collapsed": true
   },
   "outputs": [],
   "source": [
    "class MCVDDataset(Dataset):\n",
    "    \"\"\"Face Landmarks dataset.\"\"\"\n",
    "\n",
    "    def __init__(self, csv_file):\n",
    "        \"\"\"\n",
    "        Args:\n",
    "            csv_file (string): Path to the csv file with annotations.\n",
    "            root_dir (string): Directory with all the images.\n",
    "            transform (callable, optional): Optional transform to be applied\n",
    "                on a sample.\n",
    "        \"\"\"\n",
    "        self.mcvd_data = pd.read_csv(csv_file)\n",
    "\n",
    "    def __len__(self):\n",
    "        return self.mcvd_data.shape[0]\n",
    "\n",
    "    def __getitem__(self, idx):\n",
    "        \n",
    "        data = self.mcvd_data.iloc[idx][6:].values.astype('float32')\n",
    "        target = (self.mcvd_data.iloc[idx][2])\n",
    "        sample = {'data': torch.from_numpy(data), 'target': target}\n",
    "\n",
    "        return sample"
   ]
  },
  {
   "cell_type": "code",
   "execution_count": 5,
   "metadata": {
    "collapsed": true
   },
   "outputs": [],
   "source": [
    "def get_test_train_split(df,split=0.25,randomseed=None, silent=False,minimum =3):\n",
    "    prodids = df['prodid'].unique()\n",
    "    train_idx = []\n",
    "    test_idx = []\n",
    "\n",
    "    for prodid in prodids:\n",
    "        if (df[df['prodid'] == prodid].shape[0] <minimum):\n",
    "            if (not silent):\n",
    "                print(\"Skipped prodid {} with {} entries\".format(prodid,df[df['prodid'] == prodid].shape[0]))\n",
    "        else:\n",
    "            #References\n",
    "            index = df[(df['prodid'] == prodid) & (df['targetval']-df['val'] == 0)].index.values\n",
    "            train,test = train_test_split(index,test_size=split ,random_state=randomseed)\n",
    "            [train_idx.append(value) for value in train]\n",
    "            [test_idx.append(value) for value in test]\n",
    "\n",
    "            #Targets\n",
    "            index = df[(df['prodid'] == prodid) & (df['targetval']-df['val'] != 0)].index.values\n",
    "            train,test = train_test_split(index,test_size=split ,random_state=randomseed)\n",
    "            [train_idx.append(value) for value in train]\n",
    "            [test_idx.append(value) for value in test]\n",
    "            \n",
    "    return test_idx, train_idx"
   ]
  },
  {
   "cell_type": "code",
   "execution_count": 6,
   "metadata": {
    "collapsed": true
   },
   "outputs": [],
   "source": [
    "def get_dev_train_split(df,split=0.5,randomseed=None):\n",
    "    prodids = df['prodid'].unique()\n",
    "    valid_idx = []\n",
    "    test_idx = []\n",
    "    minimum = 2\n",
    "    test_next = True\n",
    "\n",
    "    for prodid in prodids:\n",
    "        if (df[df['prodid'] == prodid].shape[0] <= minimum):\n",
    "            if test_next:\n",
    "                test = df[(df['prodid'] == prodid) & (df['targetval']-df['val'] == 0)].index.values\n",
    "                [test_idx.append(value) for value in test]\n",
    "                test_next = False\n",
    "\n",
    "            else:\n",
    "                valid = df[(df['prodid'] == prodid) & (df['targetval']-df['val'] == 0)].index.values\n",
    "                [valid_idx.append(value) for value in valid]\n",
    "                test_next = True\n",
    "\n",
    "\n",
    "        else:\n",
    "                #References\n",
    "            index = df[(df['prodid'] == prodid) & (df['targetval']-df['val'] == 0)].index.values\n",
    "            if test_next:\n",
    "                test,valid = train_test_split(index,test_size=split ,random_state=randomseed)\n",
    "\n",
    "            else:\n",
    "                valid,test = train_test_split(index,test_size=split ,random_state=randomseed)\n",
    "\n",
    "            [valid_idx.append(value) for value in valid]\n",
    "            [test_idx.append(value) for value in test]\n",
    "\n",
    "            #Targets\n",
    "            index = df[(df['prodid'] == prodid) & (df['targetval']-df['val'] != 0)].index.values\n",
    "\n",
    "            if test_next:\n",
    "                test,valid = train_test_split(index,test_size=split ,random_state=randomseed)\n",
    "                test_next = False\n",
    "\n",
    "            else:\n",
    "                valid,test = train_test_split(index,test_size=split ,random_state=randomseed)\n",
    "                test_next = True \n",
    "\n",
    "            [valid_idx.append(value) for value in valid]\n",
    "            [test_idx.append(value) for value in test]\n",
    "    \n",
    "    return valid_idx, test_idx"
   ]
  },
  {
   "cell_type": "code",
   "execution_count": 7,
   "metadata": {
    "collapsed": true
   },
   "outputs": [],
   "source": [
    "class Net(nn.Module):\n",
    "    def __init__(self,in_features,out_features):\n",
    "        super(Net, self).__init__()\n",
    "        \n",
    "        self.l_in = nn.Linear(in_features=in_features,\n",
    "                            out_features=100,\n",
    "                            bias=True)\n",
    "        self.l1 = nn.Linear(in_features=100,\n",
    "                            out_features=50,\n",
    "                            bias=True)\n",
    "        \n",
    "        self.l2 = nn.Linear(in_features=50,\n",
    "                            out_features=25,\n",
    "                            bias=True)\n",
    "        \n",
    "        self.l3 = nn.Linear(in_features=25,\n",
    "                            out_features=10,\n",
    "                            bias=True)\n",
    "        \n",
    "        self.l4 = nn.Linear(in_features=10,\n",
    "                            out_features=1,\n",
    "                            bias=True)\n",
    "\n",
    "    def forward(self, x):\n",
    "        \n",
    "        x = self.l_in(x)\n",
    "        x = torch.tanh(x)\n",
    "        x = self.l1(x)\n",
    "        x = torch.tanh(x)\n",
    "        x = self.l2(x)\n",
    "        x = torch.tanh(x)\n",
    "        x = self.l3(x)\n",
    "        x = torch.tanh(x)\n",
    "        x = self.l4(x)\n",
    "        \n",
    "        return x\n"
   ]
  },
  {
   "cell_type": "code",
   "execution_count": 8,
   "metadata": {
    "collapsed": true
   },
   "outputs": [],
   "source": [
    "def init_weights(m):\n",
    "    if type(m) == nn.Linear:\n",
    "        torch.nn.init.xavier_uniform(m.weight,gain=nn.init.calculate_gain('tanh'))\n",
    "        #torch.nn.init.uniform_(m.weight,-0.7,0.7)\n",
    "        \n",
    "        m.bias.data.fill_(0.0001)"
   ]
  },
  {
   "cell_type": "code",
   "execution_count": 9,
   "metadata": {
    "collapsed": true
   },
   "outputs": [],
   "source": [
    "# pre processing function\n",
    "def zscale(x, mean, std):\n",
    "    result = np.subtract(x, mean)\n",
    "    \n",
    "    result = np.divide(result, std, out=np.zeros_like(result), where=std!=0)\n",
    "    \n",
    "    return result"
   ]
  },
  {
   "cell_type": "code",
   "execution_count": 10,
   "metadata": {
    "collapsed": true
   },
   "outputs": [],
   "source": [
    "def norma(x, min, max): \n",
    "    result = np.subtract(x, min)\n",
    "    \n",
    "    result = np.divide(result, np.subtract(max, min), out=np.zeros_like(result), where=np.subtract(max, min)!=0)\n",
    "    return result"
   ]
  },
  {
   "cell_type": "markdown",
   "metadata": {},
   "source": [
    "# Models"
   ]
  },
  {
   "cell_type": "markdown",
   "metadata": {},
   "source": [
    "## raw input data"
   ]
  },
  {
   "cell_type": "code",
   "execution_count": 11,
   "metadata": {
    "collapsed": true
   },
   "outputs": [],
   "source": [
    "dataset = MCVDDataset(csv_file='dataset-goldenref.csv')\n",
    "#dataset = MCVDDataset(csv_file='dataset.csv')\n",
    "#dataset = MCVDDataset(csv_file='goldentest.csv')\n",
    "#dataset = MCVDDataset(csv_file='m21-test-dataset.csv')\n",
    "dataset.mcvd_data = dataset.mcvd_data.drop('Unnamed: 0',axis=1)\n",
    "dataset.mcvd_data['starttime'] = pd.to_datetime(dataset.mcvd_data['starttime'])"
   ]
  },
  {
   "cell_type": "code",
   "execution_count": 12,
   "metadata": {
    "collapsed": true
   },
   "outputs": [],
   "source": [
    "randomseed = 23\n",
    "test_idx ,train_idx = get_test_train_split(dataset.mcvd_data,split=0.20,randomseed=randomseed,silent=True)\n",
    "valid_idx, train_idx = get_test_train_split(dataset.mcvd_data.iloc[train_idx],split=0.20,randomseed=randomseed,silent=True,minimum=1)\n",
    "\n",
    "#valid_idx, test_idx= get_valid_test_split(dataset.mcvd_data.iloc[remain_idx],split=0.50,randomseed=randomseed)"
   ]
  },
  {
   "cell_type": "code",
   "execution_count": 13,
   "metadata": {},
   "outputs": [
    {
     "ename": "NameError",
     "evalue": "name 'Y_train' is not defined",
     "output_type": "error",
     "traceback": [
      "\u001b[1;31m---------------------------------------------------------------------------\u001b[0m",
      "\u001b[1;31mNameError\u001b[0m                                 Traceback (most recent call last)",
      "\u001b[1;32m<ipython-input-13-749fb23cb82a>\u001b[0m in \u001b[0;36m<module>\u001b[1;34m()\u001b[0m\n\u001b[1;32m----> 1\u001b[1;33m \u001b[0mtrain_max\u001b[0m \u001b[1;33m=\u001b[0m \u001b[0mnp\u001b[0m\u001b[1;33m.\u001b[0m\u001b[0mmax\u001b[0m\u001b[1;33m(\u001b[0m\u001b[0mY_train\u001b[0m\u001b[1;33m)\u001b[0m\u001b[1;33m\u001b[0m\u001b[0m\n\u001b[0m\u001b[0;32m      2\u001b[0m \u001b[0mtrain_min\u001b[0m \u001b[1;33m=\u001b[0m \u001b[0mnp\u001b[0m\u001b[1;33m.\u001b[0m\u001b[0mmin\u001b[0m\u001b[1;33m(\u001b[0m\u001b[0mY_train\u001b[0m\u001b[1;33m)\u001b[0m\u001b[1;33m\u001b[0m\u001b[0m\n",
      "\u001b[1;31mNameError\u001b[0m: name 'Y_train' is not defined"
     ]
    }
   ],
   "source": [
    "train_max = np.max(Y_train)\n",
    "train_min = np.min(Y_train)"
   ]
  },
  {
   "cell_type": "code",
   "execution_count": 36,
   "metadata": {
    "collapsed": true
   },
   "outputs": [],
   "source": [
    "shape = dataset.__getitem__(0)['data'].shape[0]\n",
    "\n",
    "X_train = np.empty([0,shape])\n",
    "Y_train = np.empty([0,1])\n",
    "for idx in train_idx:\n",
    "    X_train = np.append(X_train,dataset.__getitem__(idx)['data'].reshape(1,shape),axis=0)\n",
    "    Y_train = np.append(Y_train,dataset.__getitem__(idx)['target'].reshape(1,1),axis=0)\n",
    "\n",
    "mean = np.mean(X_train, axis=0)\n",
    "std = np.std(X_train, axis=0)\n",
    "\n",
    "#X_train =  zscale(X_train, mean, std)\n",
    "X_train = torch.tensor(X_train)\n",
    "    \n",
    "X_test = np.empty([0,shape])\n",
    "Y_test = np.empty([0,1])\n",
    "M_test = np.empty([0,1])\n",
    "for idx in test_idx:\n",
    "    X_test = np.append(X_test,dataset.__getitem__(idx)['data'].reshape(1,shape),axis=0)\n",
    "    Y_test = np.append(Y_test,dataset.__getitem__(idx)['target'].reshape(1,1),axis=0)\n",
    "    M_test =  np.append(M_test,dataset.mcvd_data.iloc[idx,0])\n",
    "    \n",
    "\n",
    "#X_test =  zscale(X_test, mean, std)\n",
    "X_test = torch.tensor(X_test)\n",
    "    \n",
    "    \n",
    "X_valid = np.empty([0,shape])\n",
    "Y_valid = np.empty([0,1])\n",
    "for idx in valid_idx:\n",
    "    X_valid = np.append(X_valid,dataset.__getitem__(idx)['data'].reshape(1,shape),axis=0)\n",
    "    Y_valid = np.append(Y_valid,dataset.__getitem__(idx)['target'].reshape(1,1),axis=0)\n",
    "\n",
    "#X_valid =  zscale(X_valid, mean, std)\n",
    "X_valid = torch.tensor(X_valid)"
   ]
  },
  {
   "cell_type": "code",
   "execution_count": 37,
   "metadata": {
    "collapsed": true
   },
   "outputs": [],
   "source": [
    "BATCH_SIZE = 32\n",
    "\n",
    "\n",
    "trainsampler = SubsetRandomSampler(train_idx)\n",
    "testsampler = SubsetRandomSampler(test_idx)\n",
    "validsampler = SubsetRandomSampler(valid_idx)\n",
    "\n",
    "samplers = {'train': trainsampler,\n",
    "            'test' : testsampler,\n",
    "            'valid': validsampler}\n",
    "\n",
    "trainloader = DataLoader(dataset=dataset,\n",
    "                         batch_size=BATCH_SIZE,\n",
    "                         sampler=samplers['train'],\n",
    "                         shuffle=False)\n",
    "validloader = DataLoader(dataset=dataset,\n",
    "                         batch_size=BATCH_SIZE,\n",
    "                         sampler=samplers['valid'],\n",
    "                         shuffle=False)\n",
    "\n",
    "testloader = DataLoader(dataset=dataset,\n",
    "                         batch_size=BATCH_SIZE,\n",
    "                         sampler=samplers['test'],\n",
    "                         shuffle=False)\n",
    "dataloaders = {'train': trainloader,\n",
    "               'valid': validloader,\n",
    "               'test': testloader}\n",
    "\n",
    "dataset_sizes = {x: len(samplers[x]) for x in ['train', 'valid','test']}"
   ]
  },
  {
   "cell_type": "code",
   "execution_count": 38,
   "metadata": {},
   "outputs": [
    {
     "name": "stderr",
     "output_type": "stream",
     "text": [
      "C:\\Users\\bok\\Anaconda3\\lib\\site-packages\\ipykernel_launcher.py:3: UserWarning: nn.init.xavier_uniform is now deprecated in favor of nn.init.xavier_uniform_.\n",
      "  This is separate from the ipykernel package so we can avoid doing imports until\n"
     ]
    }
   ],
   "source": [
    "net = Net(in_features=dataset.__getitem__(1)['data'].shape[0],\n",
    "        out_features=1)\n",
    "device = torch.device(\"cuda\" if torch.cuda.is_available() else \"cpu\")\n",
    "net.apply(init_weights)\n",
    "net = net.to(device)"
   ]
  },
  {
   "cell_type": "code",
   "execution_count": 39,
   "metadata": {},
   "outputs": [
    {
     "data": {
      "image/png": "[encoded data removed]",
      "text/plain": [
       "<matplotlib.figure.Figure at 0x25a10db5978>"
      ]
     },
     "metadata": {},
     "output_type": "display_data"
    },
    {
     "name": "stdout",
     "output_type": "stream",
     "text": [
      "Training loss: 0.00070\n",
      "Validation loss:0.02660\n",
      "\n",
      "\t\t\t\t\tTraining time 0:05:59.503059\n"
     ]
    }
   ],
   "source": [
    "%matplotlib inline\n",
    "optimizer = optim.Adam(net.parameters())\n",
    "\n",
    "\n",
    "normin_losses_train = pd.DataFrame(columns=['Epoch','Loss'])\n",
    "normin_losses_valid = pd.DataFrame(columns=['Epoch','Loss'])\n",
    "\n",
    "now = datetime.datetime.now()\n",
    "\n",
    "print(\"Using device:\", device)\n",
    "\n",
    "for epoch in range(epochs):\n",
    "    batch_loss = []\n",
    "   \n",
    "    net.train()\n",
    "    for batch in dataloaders['train']:\n",
    "        inputs = batch['data']\n",
    "        #inputs = torch.tensor(zscale(inputs.cpu(), mean, std))\n",
    "        labels = batch['target']\n",
    "        inputs, labels = inputs.to(device, dtype=torch.float), labels.to(device, dtype=torch.float)\n",
    "        # zero the parameter gradients\n",
    "        optimizer.zero_grad()\n",
    "        \n",
    "        # make prediction, and do loss / backporopgation\n",
    "        output = net(inputs)\n",
    "        loss = criterion(output, labels)\n",
    "        loss.backward()\n",
    "        optimizer.step()\n",
    "        batch_loss.append(loss.item())             \n",
    "        \n",
    "       \n",
    "    normin_losses_train.loc[epoch] = [epoch+1,np.mean(batch_loss)]\n",
    "    \n",
    "    if epoch%valid_every == 0 or epoch == max(range(epochs)):\n",
    "        batch_loss = []\n",
    "        normin_predictions = []\n",
    "        net.eval()\n",
    "        for batch in dataloaders['valid']:\n",
    "            inputs = batch['data']\n",
    "            #inputs = torch.tensor(zscale(inputs.cpu(), mean, std))\n",
    "            labels = batch['target']\n",
    "            inputs, labels = inputs.to(device, dtype=torch.float), labels.to(device, dtype=torch.float) \n",
    "            \n",
    "            # Make prediction\n",
    "            output = net(inputs)\n",
    "            loss = criterion(output,labels)\n",
    "            batch_loss.append(loss.item())\n",
    "            \n",
    "            normin_predictions.append((output,labels))\n",
    "            \n",
    "            \n",
    "        \n",
    "        normin_losses_valid.loc[epoch] = [epoch+1,np.mean(batch_loss)]\n",
    "    \n",
    "    \n",
    "    #################### plotting ###############################\n",
    "    # Plot the loss every epoch\n",
    "    pl.figure(figsize=(15,5))\n",
    "    pl.xlabel('Epochs')\n",
    "    pl.ylabel('Loss')\n",
    "    pl.title('Epoch #{}'.format(epoch))\n",
    "    pl.plot(normin_losses_train['Epoch'],normin_losses_train['Loss'], '-b', label='Train')\n",
    "    pl.plot(normin_losses_valid['Epoch'],normin_losses_valid['Loss'], '-r', label='Valid')\n",
    "    pl.legend()\n",
    "    pl.show()\n",
    "    \n",
    "\n",
    "    \n",
    "    print('Training loss: {:.5f}'.format(normin_losses_train['Loss'].iloc[-1]))\n",
    "    print('Validation loss:{:.5f}'.format(normin_losses_valid['Loss'].iloc[-1]))\n",
    "    display.clear_output(wait=True)\n",
    "    #############################################################\n",
    "\n",
    "#################### plotting ###############################     \n",
    "# Final plot    \n",
    "pl.figure(figsize=(15,5))\n",
    "pl.xlabel('Epochs')\n",
    "pl.ylabel('Loss')\n",
    "pl.title('Epoch #{}'.format(epoch+1))\n",
    "pl.plot(normin_losses_train['Epoch'],normin_losses_train['Loss'], '-b', label='Train')\n",
    "pl.plot(normin_losses_valid['Epoch'],normin_losses_valid['Loss'], '-r', label='Valid')\n",
    "pl.legend()\n",
    "pl.show()\n",
    "\n",
    "\n",
    "print('Training loss: {:.5f}'.format(normin_losses_train['Loss'].iloc[-1]))\n",
    "print('Validation loss:{:.5f}'.format(normin_losses_valid['Loss'].iloc[-1]))\n",
    "\n",
    "end = datetime.datetime.now()\n",
    "\n",
    "print(\"\\n\\t\\t\\t\\t\\tTraining time {}\".format(end-now))\n",
    "#############################################################"
   ]
  },
  {
   "cell_type": "code",
   "execution_count": 40,
   "metadata": {},
   "outputs": [
    {
     "data": {
      "image/png": "[encoded data removed]",
      "text/plain": [
       "<matplotlib.figure.Figure at 0x25a40434c18>"
      ]
     },
     "metadata": {},
     "output_type": "display_data"
    },
    {
     "name": "stdout",
     "output_type": "stream",
     "text": [
      "\n",
      "\t\t\t\t\tTraining time 0:08:50.009859\n"
     ]
    }
   ],
   "source": [
    "pl.figure(figsize=(15,5))\n",
    "pl.xlabel('Epochs',size='large')\n",
    "pl.ylabel('Loss',size='large')\n",
    "pl.title('Epoch #{}'.format(epoch+1))\n",
    "pl.plot(normin_losses_train['Epoch'],normin_losses_train['Loss'], '-b', label='Train')\n",
    "pl.plot(normin_losses_valid['Epoch'],normin_losses_valid['Loss'], '-r', label='Test')\n",
    "pl.legend()\n",
    "plt.xticks(size = 'large')\n",
    "plt.yticks(size = 'large')\n",
    "pl.show()\n",
    "\n",
    "\n",
    "\n",
    "end = datetime.datetime.now()\n",
    "\n",
    "print(\"\\n\\t\\t\\t\\t\\tTraining time {}\".format(end-now))"
   ]
  },
  {
   "cell_type": "code",
   "execution_count": 413,
   "metadata": {},
   "outputs": [
    {
     "data": {
      "text/plain": [
       "Net(\n",
       "  (l_in): Linear(in_features=341, out_features=100, bias=True)\n",
       "  (l1): Linear(in_features=100, out_features=50, bias=True)\n",
       "  (l2): Linear(in_features=50, out_features=25, bias=True)\n",
       "  (l3): Linear(in_features=25, out_features=10, bias=True)\n",
       "  (l4): Linear(in_features=10, out_features=1, bias=True)\n",
       ")"
      ]
     },
     "execution_count": 413,
     "metadata": {},
     "output_type": "execute_result"
    }
   ],
   "source": [
    "net.eval()"
   ]
  },
  {
   "cell_type": "code",
   "execution_count": 41,
   "metadata": {},
   "outputs": [
    {
     "name": "stdout",
     "output_type": "stream",
     "text": [
      "MSE_train: 0.0007256640793423507\n",
      "MSE_valid: 0.02580882321820868\n",
      "MSE_test: 0.010685157863602955\n"
     ]
    }
   ],
   "source": [
    "print('MSE_train: {}'.format(mean_squared_error(Y_train,net(X_train.to(device,dtype=torch.float)).cpu().detach().numpy().reshape(-1))))\n",
    "\n",
    "print('MSE_valid: {}'.format(mean_squared_error(Y_valid,net(X_valid.to(device,dtype=torch.float)).cpu().detach().numpy().reshape(-1))))\n",
    "print('MSE_test: {}'.format(mean_squared_error(Y_test,net(X_test.to(device,dtype=torch.float)).cpu().detach().numpy().reshape(-1))))"
   ]
  },
  {
   "cell_type": "code",
   "execution_count": 44,
   "metadata": {},
   "outputs": [
    {
     "data": {
      "image/png": "[encoded data removed]",
      "text/plain": [
       "<matplotlib.figure.Figure at 0x25a45d57ac8>"
      ]
     },
     "metadata": {},
     "output_type": "display_data"
    }
   ],
   "source": [
    "from matplotlib.lines import Line2D\n",
    "Title = \"True value vs residual\"\n",
    "x_label =\"True value\"\n",
    "y_label = \"Residual\"\n",
    "savename = \"D-ANN-raw\"\n",
    "\n",
    "custom_lines = [Line2D([0], [0], color='black',marker='o',linestyle='none'),\n",
    "                Line2D([0], [0], color='dodgerblue',marker='o',linestyle='none'),\n",
    "                Line2D([0], [0], color='red',marker='o',linestyle='none'),\n",
    "               Line2D([0], [0], color='green',marker='o',linestyle='none')]\n",
    "\n",
    "color_map = {'m21' : 'black','m22': 'dodgerblue','m24': 'red','m25':'green'}\n",
    "preds = net(X_test.to(device,dtype=torch.float)).cpu().detach().numpy().reshape(-1)\n",
    "\n",
    "\n",
    "for i,m in enumerate(M_test):\n",
    "    color = color_map[m]\n",
    "    plt.plot(Y_test[i],preds[i]-Y_test[i],marker='o', color=color,linestyle='none')\n",
    "    \n",
    "    \n",
    "    \n",
    "plt.axhline(y=0.0, color='blue', linestyle=':')      \n",
    "ax = plt.gca()\n",
    "ax.legend(custom_lines, ['M21', 'M22', 'M24','M25'],bbox_to_anchor=(1.27, 1),fontsize='x-large')\n",
    "ax.set_xlabel(x_label,size=15)\n",
    "ax.set_ylabel(y_label,size=15)\n",
    "ax.xaxis.set_tick_params(labelsize=12)\n",
    "ax.yaxis.set_tick_params(labelsize=12)\n",
    "ax.set_title(Title,size=15)\n",
    "fig = ax.get_figure()\n",
    "plt.show()\n",
    "fig.savefig(\"{}.pdf\".format(savename), bbox_inches='tight')#"
   ]
  },
  {
   "cell_type": "code",
   "execution_count": 45,
   "metadata": {},
   "outputs": [
    {
     "data": {
      "image/png": "[encoded data removed]",
      "text/plain": [
       "<matplotlib.figure.Figure at 0x25a46040550>"
      ]
     },
     "metadata": {},
     "output_type": "display_data"
    }
   ],
   "source": [
    "from matplotlib.lines import Line2D\n",
    "Title = \"True value vs residual, zoomed-in\"\n",
    "x_label =\"True value\"\n",
    "y_label = \"Residual\"\n",
    "savename = \"D-ANN-raw-zoom\"\n",
    "\n",
    "custom_lines = [Line2D([0], [0], color='black',marker='o',linestyle='none'),\n",
    "                Line2D([0], [0], color='dodgerblue',marker='o',linestyle='none'),\n",
    "                Line2D([0], [0], color='red',marker='o',linestyle='none'),\n",
    "               Line2D([0], [0], color='green',marker='o',linestyle='none')]\n",
    "\n",
    "color_map = {'m21' : 'black','m22': 'dodgerblue','m24': 'red','m25':'green'}\n",
    "preds = net(X_test.to(device,dtype=torch.float)).cpu().detach().numpy().reshape(-1)\n",
    "\n",
    "\n",
    "for i,m in enumerate(M_test):\n",
    "    color = color_map[m]\n",
    "    plt.plot(Y_test[i],preds[i]-Y_test[i],marker='o', color=color,linestyle='none')\n",
    "    \n",
    "    \n",
    "    \n",
    "plt.axhline(y=0.0, color='blue', linestyle=':')      \n",
    "ax = plt.gca()\n",
    "ax.legend(custom_lines, ['M21', 'M22', 'M24','M25'],bbox_to_anchor=(1.27, 1),fontsize='x-large')\n",
    "ax.set_xlabel(x_label,size=15)\n",
    "ax.set_ylabel(y_label,size=15)\n",
    "ax.xaxis.set_tick_params(labelsize=12)\n",
    "ax.yaxis.set_tick_params(labelsize=12)\n",
    "ax.set_title(Title,size=15)\n",
    "ax.set_ylim(-0.08,0.08)\n",
    "fig = ax.get_figure()\n",
    "plt.show()\n",
    "fig.savefig(\"{}.pdf\".format(savename), bbox_inches='tight')#"
   ]
  },
  {
   "cell_type": "code",
   "execution_count": null,
   "metadata": {
    "collapsed": true
   },
   "outputs": [],
   "source": [
    "S"
   ]
  }
 ],
 "metadata": {
  "kernelspec": {
   "display_name": "Python 3",
   "language": "python",
   "name": "python3"
  },
  "language_info": {
   "codemirror_mode": {
    "name": "ipython",
    "version": 3
   },
   "file_extension": ".py",
   "mimetype": "text/x-python",
   "name": "python",
   "nbconvert_exporter": "python",
   "pygments_lexer": "ipython3",
   "version": "3.6.3"
  }
 },
 "nbformat": 4,
 "nbformat_minor": 2
}
